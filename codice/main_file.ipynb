{
 "cells": [
  {
   "cell_type": "code",
   "execution_count": null,
   "metadata": {},
   "outputs": [],
   "source": [
    "from model import modello_albero\n",
    "import pyomo.environ as pyo\n",
    "\n",
    "### PREPROCESS DATASET ###\n"
   ]
  },
  {
   "cell_type": "code",
   "execution_count": null,
   "metadata": {},
   "outputs": [],
   "source": [
    "###  TRAINING MODELLO ###\n",
    "modello = modello_albero()\n",
    "\n",
    "opt = pyo.SolverFactory('gurobi')\n",
    "results = opt.solve(modello) # solves and updates model\n",
    "pyo.assert_optimal_termination(results)"
   ]
  },
  {
   "cell_type": "code",
   "execution_count": null,
   "metadata": {},
   "outputs": [],
   "source": [
    "### VALIDAZIONE ###\n",
    "\n"
   ]
  }
 ],
 "metadata": {
  "kernelspec": {
   "display_name": "Python 3",
   "language": "python",
   "name": "python3"
  },
  "language_info": {
   "name": "python",
   "version": "3.10.11"
  }
 },
 "nbformat": 4,
 "nbformat_minor": 2
}
