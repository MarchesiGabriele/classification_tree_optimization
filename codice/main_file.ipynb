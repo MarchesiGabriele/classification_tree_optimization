{
 "cells": [
  {
   "cell_type": "code",
   "execution_count": 27,
   "metadata": {},
   "outputs": [],
   "source": [
    "from codice.mymodel import modello_albero\n",
    "import pyomo.environ as pyo\n",
    "import numpy as np\n",
    "import pandas as pd\n",
    "from scipy.io.arff import loadarff \n",
    "from sklearn.model_selection import train_test_split\n",
    "from codice.mytree import Tree\n",
    "\n",
    "SEED = 1\n",
    "\n",
    "### PREPROCESS DATASET ###\n",
    "\n",
    "# TODO: NORMALIZZARE DATI\n",
    "raw_data = loadarff('../dataset/Rice_Cammeo_Osmancik.arff')\n",
    "df_data = pd.DataFrame(raw_data[0]).to_numpy()\n",
    "\n",
    "# TODO FIXARE ! SONO TUTTI UNI\n",
    "x_data_raw = df_data[:, :-1]\n",
    "# Cammeo = 0, Osmancik = 1\n",
    "y_data_raw = [0 if x.decode(\"utf-8\") == \"Cammeo\" else 1 for x in df_data[:,-1]]\n",
    "\n",
    "X_train, X_test, y_train, y_test = train_test_split(x_data_raw, y_data_raw, test_size=0.25, stratify=y_data_raw, \n",
    "                                                        random_state=SEED) \n",
    "\n",
    "num_features = len(X_train[0])\n"
   ]
  },
  {
   "cell_type": "code",
   "execution_count": 29,
   "metadata": {},
   "outputs": [],
   "source": [
    "### BUILD PARAMETERS ###\n",
    "alpha = 0 # complexity\n",
    "beta = 0 # n min of elements in a leaf\n",
    "delta = 0 # depth\n",
    "\n",
    "# compute epsilon value (uj)\n",
    "u = [None for _ in range(num_features)]\n",
    "for j in range(num_features):\n",
    "    for i in range(len(X_train)-1):\n",
    "        diff = abs(X_train[i][j] - X_train[i+1][j])\n",
    "        if u[j] == None or diff < u[j]:\n",
    "            u[j] = diff\n",
    "umax = max(u)\n",
    "umin = min(u)\n",
    "\n",
    "## TODO: capire come calcolarlo\n",
    "lcap = 0.5 \n",
    "\n",
    "yi_class = [[None for _ in range(len(np.unique(y_train)))] for _ in range(len(X_train))]\n",
    "for i in range(len(X_train)):\n",
    "    for col in range(len(np.unique(y_train))):\n",
    "        yi_class[i][col] = 1 if y_train[i] == col else 0\n",
    "\n",
    "\n",
    "### BUILD TREE ###\n",
    "tree = Tree(delta)"
   ]
  },
  {
   "cell_type": "code",
   "execution_count": null,
   "metadata": {},
   "outputs": [],
   "source": [
    "\n",
    "\n",
    "modello = modello_albero(alpha, beta, delta, u, umax, umin, X_train, y_train, tree, lcap, yi_class)\n",
    "\n",
    "opt = pyo.SolverFactory('gurobi')\n",
    "results = opt.solve(modello) # solves and updates model\n",
    "pyo.assert_optimal_termination(results)"
   ]
  },
  {
   "cell_type": "code",
   "execution_count": null,
   "metadata": {},
   "outputs": [],
   "source": [
    "### VALIDAZIONE ###\n",
    "\n"
   ]
  }
 ],
 "metadata": {
  "kernelspec": {
   "display_name": "Python 3",
   "language": "python",
   "name": "python3"
  },
  "language_info": {
   "codemirror_mode": {
    "name": "ipython",
    "version": 3
   },
   "file_extension": ".py",
   "mimetype": "text/x-python",
   "name": "python",
   "nbconvert_exporter": "python",
   "pygments_lexer": "ipython3",
   "version": "3.10.11"
  }
 },
 "nbformat": 4,
 "nbformat_minor": 2
}
