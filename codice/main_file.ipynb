{
 "cells": [
  {
   "cell_type": "code",
   "execution_count": 1,
   "metadata": {},
   "outputs": [],
   "source": [
    "from codice import mymodel\n",
    "from codice.mymodel import modello_albero\n",
    "import pyomo.environ as pyo\n",
    "import numpy as np\n",
    "import pandas as pd\n",
    "from scipy.io.arff import loadarff \n",
    "from sklearn.model_selection import train_test_split\n",
    "from codice.mytree import Tree\n",
    "import importlib\n",
    "importlib.reload(mymodel)\n",
    "\n",
    "\n",
    "SEED = 1\n",
    "\n",
    "### PREPROCESS DATASET ###\n",
    "\n",
    "# TODO: NORMALIZZARE DATI\n",
    "raw_data = loadarff('../dataset/Rice_Cammeo_Osmancik.arff')\n",
    "df_data = pd.DataFrame(raw_data[0]).to_numpy()\n",
    "\n",
    "# TODO FIXARE ! SONO TUTTI UNI\n",
    "x_data_raw = df_data[:, :-1]\n",
    "# Cammeo = 0, Osmancik = 1\n",
    "y_data_raw = [0 if x.decode(\"utf-8\") == \"Cammeo\" else 1 for x in df_data[:,-1]]\n",
    "\n",
    "X_train, X_test, y_train, y_test = train_test_split(x_data_raw, y_data_raw, test_size=0.95, stratify=y_data_raw, \n",
    "                                                        random_state=SEED) \n",
    "\n",
    "num_features = len(X_train[0])\n"
   ]
  },
  {
   "cell_type": "code",
   "execution_count": 2,
   "metadata": {},
   "outputs": [
    {
     "name": "stdout",
     "output_type": "stream",
     "text": [
      "[84.0, 0.0050048828125, 0.6421356201171875, 0.0732269287109375, 1.9848346710205078e-05, 42.0, 0.00022661685943603516]\n",
      "1.9848346710205078e-05\n",
      "84.0\n",
      "2\n"
     ]
    }
   ],
   "source": [
    "### BUILD PARAMETERS ###\n",
    "alpha = 0.1 # complexity\n",
    "beta = 5 # n min of elements in a leaf\n",
    "delta = 2 # depth\n",
    "\n",
    "# compute epsilon value (uj)\n",
    "u = [None for _ in range(num_features)]\n",
    "for j in range(num_features):\n",
    "    for i in range(len(X_train)-1):\n",
    "        diff = abs(X_train[i][j] - X_train[i+1][j])\n",
    "        if (u[j] == None or diff < u[j]) and diff != 0:\n",
    "            u[j] = diff\n",
    "umax = max(u)\n",
    "umin = min(u)\n",
    "\n",
    "## TODO: capire come calcolarlo\n",
    "lcap = 0.5 \n",
    "\n",
    "yi_class = [[None for _ in range(len(np.unique(y_train)))] for _ in range(len(X_train))]\n",
    "for i in range(len(X_train)):\n",
    "    for col in range(len(np.unique(y_train))):\n",
    "        yi_class[i][col] = 1 if y_train[i] == col else 0\n",
    "\n",
    "\n",
    "mvalue = len(X_train)\n",
    "\n",
    "print(u)\n",
    "print(umin)\n",
    "print(umax)\n",
    "\n",
    "\n",
    "\n",
    "### BUILD TREE ###\n",
    "tree = Tree(delta)\n",
    "\n",
    "print(tree.get_parent(4))"
   ]
  },
  {
   "cell_type": "code",
   "execution_count": 3,
   "metadata": {},
   "outputs": [
    {
     "name": "stdout",
     "output_type": "stream",
     "text": [
      "7\n",
      "[[2, 1], [1], [3], []]\n",
      "[None, None, None]\n",
      "Set parameter Username\n",
      "Academic license - for non-commercial use only - expires 2025-05-20\n",
      "Read LP format model from file C:\\Users\\march\\AppData\\Local\\Temp\\tmp54nefgqd.pyomo.lp\n",
      "Reading time = 0.02 seconds\n",
      "x1: 2517 rows, 815 columns, 18369 nonzeros\n",
      "Gurobi Optimizer version 11.0.2 build v11.0.2rc0 (win64 - Windows 11.0 (22631.2))\n",
      "\n",
      "CPU model: AMD Ryzen 9 6900HS with Radeon Graphics, instruction set [SSE2|AVX|AVX2]\n",
      "Thread count: 8 physical cores, 16 logical processors, using up to 16 threads\n",
      "\n",
      "Optimize a model with 2517 rows, 815 columns and 18369 nonzeros\n",
      "Model fingerprint: 0x52f2cba5\n",
      "Variable types: 3 continuous, 812 integer (796 binary)\n",
      "Coefficient statistics:\n",
      "  Matrix range     [5e-01, 2e+04]\n",
      "  Objective range  [1e-01, 2e+00]\n",
      "  Bounds range     [1e+00, 1e+00]\n",
      "  RHS range        [1e+00, 2e+02]\n",
      "Presolve removed 9 rows and 21 columns\n",
      "Presolve time: 0.01s\n",
      "Presolved: 2508 rows, 794 columns, 9225 nonzeros\n",
      "Variable types: 3 continuous, 791 integer (779 binary)\n",
      "Found heuristic solution: objective 156.2000000\n",
      "\n",
      "Root relaxation: objective 0.000000e+00, 661 iterations, 0.01 seconds (0.03 work units)\n",
      "\n",
      "    Nodes    |    Current Node    |     Objective Bounds      |     Work\n",
      " Expl Unexpl |  Obj  Depth IntInf | Incumbent    BestBd   Gap | It/Node Time\n",
      "\n",
      "     0     0    0.00000    0  393  156.20000    0.00000   100%     -    0s\n",
      "H    0     0                     134.3000000    0.00000   100%     -    0s\n",
      "     0     0    0.00000    0  416  134.30000    0.00000   100%     -    0s\n",
      "     0     0    0.00000    0  247  134.30000    0.00000   100%     -    0s\n",
      "H    0     0                     130.3000000    0.03306   100%     -    0s\n",
      "     0     0    0.10000    0  263  130.30000    0.10000   100%     -    0s\n",
      "H    0     0                     114.3000000    0.10000   100%     -    0s\n",
      "     0     0    0.10000    0  319  114.30000    0.10000   100%     -    0s\n",
      "     0     0    0.10000    0  260  114.30000    0.10000   100%     -    0s\n",
      "H    0     0                     108.3000000    0.10000   100%     -    0s\n",
      "     0     0    0.12501    0  204  108.30000    0.12501   100%     -    0s\n",
      "     0     0    0.19863    0  232  108.30000    0.19863   100%     -    0s\n",
      "H    0     0                      72.1000000    0.19863   100%     -    0s\n",
      "     0     0    0.19863    0  202   72.10000    0.19863   100%     -    0s\n",
      "     0     0    0.20000    0   80   72.10000    0.20000   100%     -    0s\n",
      "     0     0    0.20000    0  130   72.10000    0.20000   100%     -    0s\n",
      "     0     0    0.20000    0  172   72.10000    0.20000   100%     -    1s\n",
      "     0     0    0.20000    0  206   72.10000    0.20000   100%     -    1s\n",
      "     0     0    0.20000    0  196   72.10000    0.20000   100%     -    1s\n",
      "     0     0    0.20000    0  112   72.10000    0.20000   100%     -    1s\n",
      "     0     2    0.20000    0   34   72.10000    0.20000   100%     -    1s\n",
      "  2614  1177   29.19463   31   79   72.10000    0.20000   100%  38.9    5s\n",
      "  2714  1237    0.30000   19  253   72.10000    0.30000   100%  59.7   10s\n",
      "  2967  1202   32.20000   21  202   72.10000    0.30000   100%  65.6   15s\n",
      "H 3373  1070                      68.3000000    0.30000   100%  71.2   19s\n",
      "  3862  1074   56.30000   43   47   68.30000    0.30000   100%  71.2   20s\n",
      "  6875   811 infeasible   29        68.30000    0.30000   100%  75.7   29s\n",
      "H 6881   805                      66.3000000    0.30000   100%  75.9   29s\n",
      "  6984   790    0.30000   35  326   66.30000    0.30000   100%  78.9   30s\n",
      " 12139  1298    8.42872   32  145   66.30000    4.92357  92.6%  69.4   35s\n",
      " 18874  1821 infeasible   42        66.30000   10.20000  84.6%  59.3   40s\n",
      " 21126  1882   52.34995   37   45   66.30000   12.83415  80.6%  59.0   48s\n",
      "H21136  1873                      64.3000000   12.83415  80.0%  59.0   48s\n",
      " 21162  1653 infeasible   38        64.30000   13.30627  79.3%  59.0   50s\n",
      " 24228  1922   32.30000   34   89   64.30000   20.68719  67.8%  57.8   55s\n",
      " 30883  1513 infeasible   38        64.30000   36.29822  43.5%  53.0   61s\n",
      " 36834  1302   50.30000   46   42   64.30000   39.48231  38.6%  49.0   66s\n",
      "\n",
      "Cutting planes:\n",
      "  Learned: 414\n",
      "  Gomory: 9\n",
      "  Cover: 3188\n",
      "  Implied bound: 127\n",
      "  Clique: 48\n",
      "  MIR: 282\n",
      "  StrongCG: 20\n",
      "  Flow cover: 1243\n",
      "  GUB cover: 157\n",
      "  Inf proof: 312\n",
      "  Zero half: 14\n",
      "  RLT: 32\n",
      "  Relax-and-lift: 30\n",
      "  BQP: 13\n",
      "\n",
      "Explored 42432 nodes (1971993 simplex iterations) in 70.04 seconds (68.99 work units)\n",
      "Thread count was 16 (of 16 available processors)\n",
      "\n",
      "Solution count 10: 64.3 64.3 66.3 ... 156.2\n",
      "\n",
      "Optimal solution found (tolerance 1.00e-04)\n",
      "Best objective 6.430000000000e+01, best bound 6.430000000000e+01, gap 0.0000%\n"
     ]
    }
   ],
   "source": [
    "import importlib\n",
    "import time\n",
    "importlib.reload(mymodel)\n",
    "\n",
    "tstart = time.time()\n",
    "modello = mymodel.modello_albero(alpha, beta, delta, u, umax, umin, num_features, X_train, y_train, tree, lcap, yi_class, mvalue)\n",
    "opt = pyo.SolverFactory('gurobi')\n",
    "results = opt.solve(modello, tee=True) # solves and updates model\n",
    "pyo.assert_optimal_termination(results)\n",
    "tend = time.time() - tstart"
   ]
  },
  {
   "cell_type": "code",
   "execution_count": 4,
   "metadata": {},
   "outputs": [
    {
     "name": "stdout",
     "output_type": "stream",
     "text": [
      "1.0\n",
      "1.0\n",
      "1.0\n",
      "1.0\n",
      "\n",
      "1.0\n",
      "1.0\n",
      "1.0\n"
     ]
    }
   ],
   "source": [
    "### VALIDAZIONE ###\n",
    "print(modello.lsmall[4].value )\n",
    "print(modello.lsmall[5].value )\n",
    "print(modello.lsmall[6].value )\n",
    "print(modello.lsmall[7].value )\n",
    "\n",
    "print()\n",
    "print(modello.d[1].value )\n",
    "print(modello.d[2].value )\n",
    "print(modello.d[3].value )\n",
    "\n",
    "\n",
    "\n",
    "\n",
    "\n"
   ]
  },
  {
   "cell_type": "code",
   "execution_count": 5,
   "metadata": {},
   "outputs": [
    {
     "name": "stdout",
     "output_type": "stream",
     "text": [
      "10.0\n",
      "32.0\n",
      "83.0\n",
      "65.0\n",
      "10.0\n",
      "32.0\n",
      "83.0\n",
      "65.0\n"
     ]
    },
    {
     "name": "stderr",
     "output_type": "stream",
     "text": [
      "C:\\Users\\march\\AppData\\Local\\Temp\\ipykernel_13748\\2236415816.py:1: DeprecationWarning: Calling np.sum(generator) is deprecated, and in the future will give a different result. Use np.sum(np.fromiter(generator)) or the python sum builtin instead.\n",
      "  print(np.sum(modello.z[i, 4].value for i in range(len(y_train))))\n",
      "C:\\Users\\march\\AppData\\Local\\Temp\\ipykernel_13748\\2236415816.py:2: DeprecationWarning: Calling np.sum(generator) is deprecated, and in the future will give a different result. Use np.sum(np.fromiter(generator)) or the python sum builtin instead.\n",
      "  print(np.sum(modello.z[i, 5].value for i in range(len(y_train))))\n",
      "C:\\Users\\march\\AppData\\Local\\Temp\\ipykernel_13748\\2236415816.py:3: DeprecationWarning: Calling np.sum(generator) is deprecated, and in the future will give a different result. Use np.sum(np.fromiter(generator)) or the python sum builtin instead.\n",
      "  print(np.sum(modello.z[i, 6].value for i in range(len(y_train))))\n",
      "C:\\Users\\march\\AppData\\Local\\Temp\\ipykernel_13748\\2236415816.py:4: DeprecationWarning: Calling np.sum(generator) is deprecated, and in the future will give a different result. Use np.sum(np.fromiter(generator)) or the python sum builtin instead.\n",
      "  print(np.sum(modello.z[i, 7].value for i in range(len(y_train))))\n"
     ]
    }
   ],
   "source": [
    "print(np.sum(modello.z[i, 4].value for i in range(len(y_train))))\n",
    "print(np.sum(modello.z[i, 5].value for i in range(len(y_train))))\n",
    "print(np.sum(modello.z[i, 6].value for i in range(len(y_train))))\n",
    "print(np.sum(modello.z[i, 7].value for i in range(len(y_train))))\n",
    "\n",
    "print(modello.n2[4].value)\n",
    "print(modello.n2[5].value)\n",
    "print(modello.n2[6].value)\n",
    "print(modello.n2[7].value)"
   ]
  },
  {
   "cell_type": "code",
   "execution_count": 6,
   "metadata": {},
   "outputs": [
    {
     "name": "stdout",
     "output_type": "stream",
     "text": [
      "10.0\n",
      "32.0\n",
      "83.0\n",
      "65.0\n",
      "\n",
      "0.0\n",
      "24.0\n",
      "8.0\n",
      "49.0\n",
      "\n",
      "0.0\n",
      "1.0\n",
      "0.0\n",
      "1.0\n"
     ]
    }
   ],
   "source": [
    "\n",
    "\n",
    "print(modello.n2[4].value )\n",
    "print(modello.n2[5].value )\n",
    "print(modello.n2[6].value )\n",
    "print(modello.n2[7].value )\n",
    "\n",
    "print()\n",
    "print(modello.n1[0,4].value )\n",
    "print(modello.n1[0,5].value )\n",
    "print(modello.n1[0,6].value )\n",
    "print(modello.n1[0,7].value )\n",
    "\n",
    "print()\n",
    "print(modello.c[0,4].value )\n",
    "print(modello.c[0,5].value )\n",
    "print(modello.c[0,6].value )\n",
    "print(modello.c[0,7].value )\n",
    "\n"
   ]
  },
  {
   "cell_type": "code",
   "execution_count": 7,
   "metadata": {},
   "outputs": [
    {
     "name": "stdout",
     "output_type": "stream",
     "text": [
      "\n",
      "0.592190146446228\n",
      "0.8948467969894409\n",
      "0.8882372379302979\n"
     ]
    }
   ],
   "source": [
    "print()\n",
    "print(modello.b[1].value )\n",
    "print(modello.b[2].value )\n",
    "print(modello.b[3].value )\n",
    "\n"
   ]
  },
  {
   "cell_type": "code",
   "execution_count": null,
   "metadata": {},
   "outputs": [],
   "source": []
  }
 ],
 "metadata": {
  "kernelspec": {
   "display_name": "Python 3",
   "language": "python",
   "name": "python3"
  },
  "language_info": {
   "codemirror_mode": {
    "name": "ipython",
    "version": 3
   },
   "file_extension": ".py",
   "mimetype": "text/x-python",
   "name": "python",
   "nbconvert_exporter": "python",
   "pygments_lexer": "ipython3",
   "version": "3.10.11"
  }
 },
 "nbformat": 4,
 "nbformat_minor": 2
}
